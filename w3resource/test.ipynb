{
 "cells": [
  {
   "cell_type": "code",
   "execution_count": 5,
   "id": "61ea50f1",
   "metadata": {},
   "outputs": [
    {
     "data": {
      "text/plain": [
       "5"
      ]
     },
     "execution_count": 5,
     "metadata": {},
     "output_type": "execute_result"
    }
   ],
   "source": [
    "\n",
    "def max_of_two(a, b):\n",
    "    if a > b:\n",
    "     return a\n",
    "    else:\n",
    "     return b\n",
    "\n",
    "\n",
    "def max_of_three(a, b, c):\n",
    "    return max_of_two(max_of_two(a, b), c)\n",
    "\n",
    "max_of_three(-100, -6, 5)"
   ]
  },
  {
   "cell_type": "code",
   "execution_count": 6,
   "id": "92881c61",
   "metadata": {},
   "outputs": [
    {
     "data": {
      "text/plain": [
       "15"
      ]
     },
     "execution_count": 6,
     "metadata": {},
     "output_type": "execute_result"
    }
   ],
   "source": [
    "def sum_of_all(nums):\n",
    "    if not nums:\n",
    "        return 0\n",
    "    s = 0\n",
    "    for num in nums:\n",
    "        s += num\n",
    "    return s\n",
    "\n",
    "sum_of_all([1, 2, 3, 4, 5])"
   ]
  },
  {
   "cell_type": "code",
   "execution_count": 11,
   "id": "7ef7d2f4",
   "metadata": {},
   "outputs": [
    {
     "data": {
      "text/plain": [
       "('!dlroW ,olleH', '!dlroW ,olleH')"
      ]
     },
     "execution_count": 11,
     "metadata": {},
     "output_type": "execute_result"
    }
   ],
   "source": [
    "def rev_str(s):\n",
    "    return s[::-1]\n",
    "\n",
    "def rev_str2(s):\n",
    "    rev = \"\"\n",
    "    for char in s:\n",
    "        rev  = char + rev\n",
    "    return rev  \n",
    "\n",
    "\n",
    "rev_str(\"Hello, World!\"), rev_str2(\"Hello, World!\")\n",
    "\n"
   ]
  },
  {
   "cell_type": "code",
   "execution_count": 13,
   "id": "dbc52824",
   "metadata": {},
   "outputs": [
    {
     "data": {
      "text/plain": [
       "720"
      ]
     },
     "execution_count": 13,
     "metadata": {},
     "output_type": "execute_result"
    }
   ],
   "source": [
    "def factorial(n):\n",
    "    if n == 0 or n == 1:\n",
    "        return 1\n",
    "    else:\n",
    "        return n * factorial(n - 1)\n",
    "    \n",
    "factorial(6)"
   ]
  },
  {
   "cell_type": "code",
   "execution_count": 16,
   "id": "5286c7c4",
   "metadata": {},
   "outputs": [
    {
     "data": {
      "text/plain": [
       "(True, False, False)"
      ]
     },
     "execution_count": 16,
     "metadata": {},
     "output_type": "execute_result"
    }
   ],
   "source": [
    "def is_in_range(n, min_val, max_val):\n",
    "    return min_val <= n <= max_val\n",
    "\n",
    "is_in_range(5, 1, 10), is_in_range(0, 1, 10), is_in_range(11, 1, 10 )"
   ]
  },
  {
   "cell_type": "code",
   "execution_count": 17,
   "id": "1e1b87ad",
   "metadata": {},
   "outputs": [
    {
     "data": {
      "text/plain": [
       "'Uppercase: 5, Lowercase: 22'"
      ]
     },
     "execution_count": 17,
     "metadata": {},
     "output_type": "execute_result"
    }
   ],
   "source": [
    "def count_case(s):\n",
    "    if not s:\n",
    "        return \"\"\n",
    "    upper = 0\n",
    "    lower = 0\n",
    "    for char in s:\n",
    "        if char.isupper():\n",
    "            upper += 1\n",
    "        elif char.islower():\n",
    "            lower += 1\n",
    "    return f\"Uppercase: {upper}, Lowercase: {lower}\"    \n",
    "count_case(\"Hello World! This is a Test String.\")\n",
    "    "
   ]
  },
  {
   "cell_type": "code",
   "execution_count": 18,
   "id": "7f2c3b89",
   "metadata": {},
   "outputs": [
    {
     "data": {
      "text/plain": [
       "[1, 2, 3, 4, 5]"
      ]
     },
     "execution_count": 18,
     "metadata": {},
     "output_type": "execute_result"
    }
   ],
   "source": [
    "def distinct(nums):\n",
    "    dist = []\n",
    "    for num in nums:\n",
    "        if num not in dist:\n",
    "            dist.append(num)\n",
    "    return dist\n",
    "distinct([1, 2, 2, 3, 4, 4, 5])"
   ]
  },
  {
   "cell_type": "code",
   "execution_count": 20,
   "id": "e96f3ada",
   "metadata": {},
   "outputs": [
    {
     "data": {
      "text/plain": [
       "(True, False, False)"
      ]
     },
     "execution_count": 20,
     "metadata": {},
     "output_type": "execute_result"
    }
   ],
   "source": [
    "def is_prime(n):\n",
    "    if n <= 1:\n",
    "        return False\n",
    "    for i in range(2, int(n**0.5)+1):\n",
    "        if n % i == 0:\n",
    "            return False\n",
    "    return True\n",
    "\n",
    "is_prime(29), is_prime(15), is_prime(1)"
   ]
  },
  {
   "cell_type": "code",
   "execution_count": null,
   "id": "99f527d1",
   "metadata": {},
   "outputs": [],
   "source": []
  }
 ],
 "metadata": {
  "kernelspec": {
   "display_name": "py39",
   "language": "python",
   "name": "python3"
  },
  "language_info": {
   "codemirror_mode": {
    "name": "ipython",
    "version": 3
   },
   "file_extension": ".py",
   "mimetype": "text/x-python",
   "name": "python",
   "nbconvert_exporter": "python",
   "pygments_lexer": "ipython3",
   "version": "3.9.23"
  }
 },
 "nbformat": 4,
 "nbformat_minor": 5
}
