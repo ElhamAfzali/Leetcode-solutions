{
 "cells": [
  {
   "cell_type": "code",
   "execution_count": 6,
   "id": "08fde683",
   "metadata": {},
   "outputs": [],
   "source": [
    "\n",
    "def two_sum(nums, target: int):\n",
    "    seen = {}\n",
    "    for i , num in enumerate(nums):\n",
    "        complement = target - num\n",
    "        if complement in seen:\n",
    "            return [seen[complement], i]\n",
    "        seen[num] = i"
   ]
  },
  {
   "cell_type": "code",
   "execution_count": 13,
   "id": "dd3657c1",
   "metadata": {},
   "outputs": [
    {
     "data": {
      "text/plain": [
       "[2, 3]"
      ]
     },
     "execution_count": 13,
     "metadata": {},
     "output_type": "execute_result"
    }
   ],
   "source": [
    "nums = [2, 10, 6, 7]\n",
    "target = 13\n",
    "res = two_sum(nums, target)\n",
    "res"
   ]
  },
  {
   "cell_type": "code",
   "execution_count": null,
   "id": "bab40cd6",
   "metadata": {},
   "outputs": [],
   "source": []
  }
 ],
 "metadata": {
  "kernelspec": {
   "display_name": "py39",
   "language": "python",
   "name": "python3"
  },
  "language_info": {
   "codemirror_mode": {
    "name": "ipython",
    "version": 3
   },
   "file_extension": ".py",
   "mimetype": "text/x-python",
   "name": "python",
   "nbconvert_exporter": "python",
   "pygments_lexer": "ipython3",
   "version": "3.9.23"
  }
 },
 "nbformat": 4,
 "nbformat_minor": 5
}
