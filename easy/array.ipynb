{
 "cells": [
  {
   "cell_type": "markdown",
   "id": "1f7f583a",
   "metadata": {},
   "source": [
    "# Two Sum\n",
    "\n",
    "```\n",
    "\n",
    "def two_sum(nums, target: int):\n",
    "    seen = {}\n",
    "    for i , num in enumerate(nums):\n",
    "        complement = target - num\n",
    "        if complement in seen and seen[complement] != i:\n",
    "            return [seen[complement], i]\n",
    "        seen[num] = i\n",
    "    return []\n",
    "\n",
    "```\n",
    "example:\n",
    "```\n",
    "nums = [2, 10, 6, 7]\n",
    "target = 13\n",
    "res = two_sum(nums, target)\n",
    "res\n",
    "```"
   ]
  },
  {
   "cell_type": "code",
   "execution_count": 20,
   "id": "02a82582",
   "metadata": {},
   "outputs": [
    {
     "data": {
      "text/plain": [
       "[2, 3]"
      ]
     },
     "execution_count": 20,
     "metadata": {},
     "output_type": "execute_result"
    }
   ],
   "source": [
    "def two_sum(nums: list[int], target: int) -> list[int]:\n",
    "    seen = {}\n",
    "    for i, num in enumerate(nums):\n",
    "        complement = target - num\n",
    "        if complement in seen and seen[complement] != i:\n",
    "            return [seen[complement], i]\n",
    "        seen[num] = i\n",
    "    return []\n",
    "\n",
    "nums = [2, 10, 6, 7]\n",
    "target = 13\n",
    "res = two_sum(nums, target)\n",
    "res"
   ]
  },
  {
   "cell_type": "markdown",
   "id": "dd3657c1",
   "metadata": {},
   "source": [
    "# Find subarray with equal sum\n",
    "Given a 0-indexed integer array nums, determine whether there exist two subarrays of length 2 with equal sum. Note that the two subarrays must begin at different indices.\n",
    "\n",
    "Return true if these subarrays exist, and false otherwise.\n",
    "\n",
    "A subarray is a contiguous non-empty sequence of elements within an array.\n",
    "\n",
    "```\n",
    "def findfubarray(nums):\n",
    "    hash_map = set()\n",
    "    for i in range(len(nums) -1):\n",
    "        s = nums[i] + nums[i+1]\n",
    "        if s in hash_map:\n",
    "            return True\n",
    "        hash_map.add(s)\n",
    "    return False\n",
    "    \n",
    "```\n"
   ]
  },
  {
   "cell_type": "code",
   "execution_count": 17,
   "id": "bab40cd6",
   "metadata": {},
   "outputs": [],
   "source": [
    "def findfubarray(nums):\n",
    "    hash_map = set()\n",
    "    for i in range(len(nums) -1):\n",
    "        s = nums[i] + nums[i+1]\n",
    "        if s in hash_map:\n",
    "            return True\n",
    "        hash_map.add(s)\n",
    "    return False"
   ]
  },
  {
   "cell_type": "code",
   "execution_count": null,
   "id": "9a01a356",
   "metadata": {},
   "outputs": [],
   "source": []
  }
 ],
 "metadata": {
  "kernelspec": {
   "display_name": "py39",
   "language": "python",
   "name": "python3"
  },
  "language_info": {
   "codemirror_mode": {
    "name": "ipython",
    "version": 3
   },
   "file_extension": ".py",
   "mimetype": "text/x-python",
   "name": "python",
   "nbconvert_exporter": "python",
   "pygments_lexer": "ipython3",
   "version": "3.9.23"
  }
 },
 "nbformat": 4,
 "nbformat_minor": 5
}
