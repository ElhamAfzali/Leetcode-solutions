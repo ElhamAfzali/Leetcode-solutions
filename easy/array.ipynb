{
 "cells": [
  {
   "cell_type": "markdown",
   "id": "1f7f583a",
   "metadata": {},
   "source": [
    "# 1- Two Sum\n",
    "Given an array of integers nums and an integer target, return indices of the two numbers such that they add up to target.\n",
    "\n",
    "You may assume that each input would have exactly one solution, and you may not use the same element twice.\n",
    "\n",
    "You can return the answer in any order.\n",
    "\n",
    "```\n",
    "\n",
    "def two_sum(nums, target: int):\n",
    "    seen = {}\n",
    "    for i , num in enumerate(nums):\n",
    "        complement = target - num\n",
    "        if complement in seen and seen[complement] != i:\n",
    "            return [seen[complement], i]\n",
    "        seen[num] = i\n",
    "    return []\n",
    "\n",
    "```\n",
    "example:\n",
    "```\n",
    "nums = [2, 10, 6, 7]\n",
    "target = 13\n",
    "res = two_sum(nums, target)\n",
    "res\n",
    "```"
   ]
  },
  {
   "cell_type": "code",
   "execution_count": 20,
   "id": "02a82582",
   "metadata": {},
   "outputs": [
    {
     "data": {
      "text/plain": [
       "[2, 3]"
      ]
     },
     "execution_count": 20,
     "metadata": {},
     "output_type": "execute_result"
    }
   ],
   "source": [
    "def two_sum(nums: list[int], target: int) -> list[int]:\n",
    "    seen = {}\n",
    "    for i, num in enumerate(nums):\n",
    "        complement = target - num\n",
    "        if complement in seen and seen[complement] != i:\n",
    "            return [seen[complement], i]\n",
    "        seen[num] = i\n",
    "    return []\n",
    "\n",
    "nums = [2, 10, 6, 7]\n",
    "target = 13\n",
    "res = two_sum(nums, target)\n",
    "res"
   ]
  },
  {
   "cell_type": "markdown",
   "id": "dd3657c1",
   "metadata": {},
   "source": [
    "# Find subarray with equal sum\n",
    "Given a 0-indexed integer array nums, determine whether there exist two subarrays of length 2 with equal sum. Note that the two subarrays must begin at different indices.\n",
    "\n",
    "Return true if these subarrays exist, and false otherwise.\n",
    "\n",
    "A subarray is a contiguous non-empty sequence of elements within an array.\n",
    "\n",
    "```\n",
    "def findfubarray(nums):\n",
    "    hash_map = set()\n",
    "    for i in range(len(nums) -1):\n",
    "        s = nums[i] + nums[i+1]\n",
    "        if s in hash_map:\n",
    "            return True\n",
    "        hash_map.add(s)\n",
    "    return False\n",
    "    \n",
    "```\n"
   ]
  },
  {
   "cell_type": "code",
   "execution_count": 22,
   "id": "bab40cd6",
   "metadata": {},
   "outputs": [
    {
     "data": {
      "text/plain": [
       "True"
      ]
     },
     "execution_count": 22,
     "metadata": {},
     "output_type": "execute_result"
    }
   ],
   "source": [
    "def findsubarray(nums):\n",
    "    hash_map = set()\n",
    "    for i in range(len(nums) -1):\n",
    "        s = nums[i] + nums[i+1]\n",
    "        if s in hash_map:\n",
    "            return True\n",
    "        hash_map.add(s)\n",
    "    return False\n",
    "\n",
    "nums = [4,2,4]\n",
    "findsubarray(nums)"
   ]
  },
  {
   "cell_type": "markdown",
   "id": "9a01a356",
   "metadata": {},
   "source": [
    "# 14-Longest Common Prefix\n",
    "\n",
    "Write a function to find the longest common prefix string amongst an array of strings.\n",
    "\n",
    "If there is no common prefix, return an empty string \"\".\n",
    "\n"
   ]
  },
  {
   "cell_type": "code",
   "execution_count": 28,
   "id": "7a15ff4c",
   "metadata": {},
   "outputs": [
    {
     "data": {
      "text/plain": [
       "'fl'"
      ]
     },
     "execution_count": 28,
     "metadata": {},
     "output_type": "execute_result"
    }
   ],
   "source": [
    "def longestprefix(strs):\n",
    "    if not strs:\n",
    "        return \"\"\n",
    "    for i in range(len(strs[0])):\n",
    "        char = strs[0][i]\n",
    "        for s in strs[1:]:\n",
    "            if i >= len(s) or s[i] != char:\n",
    "                return strs[0][:i]\n",
    "    return strs[0]\n",
    "strs = [\"flower\",\"flow\",\"flight\"]\n",
    "longestprefix(strs)"
   ]
  },
  {
   "cell_type": "markdown",
   "id": "10137496",
   "metadata": {},
   "source": [
    "# 26- Remove duplicate from sorted array\n",
    "\n",
    "Given an integer array nums sorted in non-decreasing order, remove the duplicates in-place such that each unique element appears only once. The relative order of the elements should be kept the same. Then return the number of unique elements in nums.\n",
    "\n",
    "Consider the number of unique elements of nums to be k, to get accepted, you need to do the following things:\n",
    "\n",
    "Change the array nums such that the first k elements of nums contain the unique elements in the order they were present in nums initially. The remaining elements of nums are not important as well as the size of nums.\n",
    "Return k.\n"
   ]
  },
  {
   "cell_type": "code",
   "execution_count": 39,
   "id": "e4efe01e",
   "metadata": {},
   "outputs": [
    {
     "data": {
      "text/plain": [
       "2"
      ]
     },
     "execution_count": 39,
     "metadata": {},
     "output_type": "execute_result"
    }
   ],
   "source": [
    "def removeDuplicates(nums):\n",
    "    if not nums:\n",
    "        return 0\n",
    "    k = 1\n",
    "    for i in range(1, len(nums)):\n",
    "        if nums[i] != nums[k-1]:\n",
    "            nums[k] = nums[i]\n",
    "            k+=1\n",
    "    return k\n",
    "\n",
    "nums = [0,0,1,1,1,2,2,3,3,4]\n",
    "nums = [1, 1, 2]\n",
    "removeDuplicates(nums)"
   ]
  },
  {
   "cell_type": "markdown",
   "id": "e310a81a",
   "metadata": {},
   "source": [
    "# 27 Remove Element\n",
    "\n",
    "Given an integer array nums and an integer val, remove all occurrences of val in nums in-place. The order of the elements may be changed. Then return the number of elements in nums which are not equal to val.\n",
    "\n",
    "Consider the number of elements in nums which are not equal to val be k, to get accepted, you need to do the following things:\n",
    "\n",
    "Change the array nums such that the first k elements of nums contain the elements which are not equal to val. The remaining elements of nums are not important as well as the size of nums.\n",
    "Return k."
   ]
  },
  {
   "cell_type": "code",
   "execution_count": 43,
   "id": "1f8164ef",
   "metadata": {},
   "outputs": [
    {
     "data": {
      "text/plain": [
       "2"
      ]
     },
     "execution_count": 43,
     "metadata": {},
     "output_type": "execute_result"
    }
   ],
   "source": [
    "def removeDuplicates(nums, val):\n",
    "    if not nums:\n",
    "        return 0\n",
    "    k = 0\n",
    "    for i in range(len(nums)):\n",
    "        if nums[i] != val:\n",
    "            nums[k] = nums[i]\n",
    "            k +=1\n",
    "    return k\n",
    "\n",
    "nums = [3,2,2,3]\n",
    "val = 3\n",
    "removeDuplicates(nums, val)"
   ]
  },
  {
   "cell_type": "code",
   "execution_count": null,
   "id": "26060814",
   "metadata": {},
   "outputs": [],
   "source": []
  }
 ],
 "metadata": {
  "kernelspec": {
   "display_name": "py39",
   "language": "python",
   "name": "python3"
  },
  "language_info": {
   "codemirror_mode": {
    "name": "ipython",
    "version": 3
   },
   "file_extension": ".py",
   "mimetype": "text/x-python",
   "name": "python",
   "nbconvert_exporter": "python",
   "pygments_lexer": "ipython3",
   "version": "3.9.23"
  }
 },
 "nbformat": 4,
 "nbformat_minor": 5
}
