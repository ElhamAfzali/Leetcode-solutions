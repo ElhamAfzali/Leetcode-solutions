{
 "cells": [
  {
   "cell_type": "code",
   "execution_count": 13,
   "id": "814929e4",
   "metadata": {},
   "outputs": [
    {
     "data": {
      "text/plain": [
       "100"
      ]
     },
     "execution_count": 13,
     "metadata": {},
     "output_type": "execute_result"
    }
   ],
   "source": [
    "# 1- Maximum of 3 numbers\n",
    "# Write a Python function to find the maximum of three numbers.\n",
    "def max_of_two(a, b):\n",
    "    if a > b:\n",
    "        return a\n",
    "    return b\n",
    "\n",
    "\n",
    "def max_of_three(a, b, c):\n",
    "    return max_of_two(c, max_of_two(a, b))\n",
    "max_of_three(100, -6, 5)"
   ]
  },
  {
   "cell_type": "code",
   "execution_count": null,
   "id": "bf72c5cf",
   "metadata": {},
   "outputs": [
    {
     "data": {
      "text/plain": [
       "20"
      ]
     },
     "execution_count": 17,
     "metadata": {},
     "output_type": "execute_result"
    }
   ],
   "source": [
    "# 2. Sum All Numbers in a List\n",
    "# Write a Python function to sum all the numbers in a list.\n",
    "\n",
    "def sum_of_all(nums):\n",
    "    s = 0\n",
    "    for num in nums:\n",
    "        s += num\n",
    "    return s\n",
    "\n",
    "nums = [8, 2, 3, 0, 7]\n",
    "sum_of_all(nums)"
   ]
  },
  {
   "cell_type": "code",
   "execution_count": null,
   "id": "24366feb",
   "metadata": {},
   "outputs": [
    {
     "data": {
      "text/plain": [
       "-336"
      ]
     },
     "execution_count": 19,
     "metadata": {},
     "output_type": "execute_result"
    }
   ],
   "source": [
    "#3. Multiply All Numbers in a List\n",
    "# Write a Python function to multiply all the numbers in a list.\n",
    "\n",
    "def mult_all(nums):\n",
    "    mult = 1\n",
    "    for num in  nums:\n",
    "        mult *= num\n",
    "    return mult\n",
    "\n",
    "nums = [8, 2, 3, -1, 7]\n",
    "mult_all(nums)"
   ]
  },
  {
   "cell_type": "code",
   "execution_count": 23,
   "id": "15487e82",
   "metadata": {},
   "outputs": [
    {
     "data": {
      "text/plain": [
       "('dcba4321',\n",
       " 'dcba4321',\n",
       " 'dcba4321',\n",
       " 'dcba4321',\n",
       " 'dcba4321',\n",
       " 'dcba4321',\n",
       " 'dcba4321')"
      ]
     },
     "execution_count": 23,
     "metadata": {},
     "output_type": "execute_result"
    }
   ],
   "source": [
    "# 4. Reverse a String\n",
    "\n",
    "# Write a Python program to reverse a string.\n",
    "\n",
    "def rev_string1(strs):\n",
    "    return strs[::-1]\n",
    "\n",
    "def rev_string2(strs):\n",
    "    rev = \"\"\n",
    "    for i in strs:\n",
    "        rev = i + rev\n",
    "    return rev\n",
    "\n",
    "def rev_string3(strs):\n",
    "    rev = []\n",
    "    for i in strs:\n",
    "        rev.insert(0, i)\n",
    "    return ''.join(rev)\n",
    "\n",
    "def rev_string4(strs):\n",
    "    return ''.join(reversed(strs))\n",
    "\n",
    "def rev_string5(strs):\n",
    "    rev = []\n",
    "    for i in range(len(strs) - 1, -1, -1):\n",
    "        rev.append(strs[i])\n",
    "    return ''.join(rev)\n",
    "\n",
    "def rev_string6(strs):\n",
    "    rev = []\n",
    "    for i in range(len(strs)):\n",
    "        rev.append(strs[len(strs) - 1 - i])\n",
    "    return ''.join(rev)\n",
    "\n",
    "def rev_string7(strs):\n",
    "    rev = []\n",
    "    for i in range(len(strs)):\n",
    "        rev.append(strs[-(i + 1)])\n",
    "    return ''.join(rev)\n",
    "\n",
    "\n",
    "strs = \"1234abcd\"\n",
    "rev_string1(strs), rev_string2(strs), rev_string3(strs), rev_string4(strs), rev_string5(strs), rev_string6(strs), rev_string7(strs)\n"
   ]
  },
  {
   "cell_type": "code",
   "execution_count": 27,
   "id": "2c893d16",
   "metadata": {},
   "outputs": [
    {
     "data": {
      "text/plain": [
       "120"
      ]
     },
     "execution_count": 27,
     "metadata": {},
     "output_type": "execute_result"
    }
   ],
   "source": [
    "# 5. Factorial of a Number\n",
    "# Write a Python function to compute the factorial of a number.\n",
    "\n",
    "def factorial(n):\n",
    "    if n == 0 or n == 1:\n",
    "        return 1\n",
    "    else:\n",
    "        return n * factorial(n - 1)\n",
    "    \n",
    "factorial(5)"
   ]
  },
  {
   "cell_type": "code",
   "execution_count": 29,
   "id": "7c48e622",
   "metadata": {},
   "outputs": [
    {
     "data": {
      "text/plain": [
       "False"
      ]
     },
     "execution_count": 29,
     "metadata": {},
     "output_type": "execute_result"
    }
   ],
   "source": [
    "# 6. Check if a Number Falls Within a Given Range\n",
    "# Write a Python function to check if a number falls within a given range.\n",
    "def in_range(n, min_val, max_val):\n",
    "    if min_val <= n <= max_val:\n",
    "        return True\n",
    "    return False\n",
    "in_range(1, 3, 6)"
   ]
  },
  {
   "cell_type": "code",
   "execution_count": 32,
   "id": "6f9af335",
   "metadata": {},
   "outputs": [
    {
     "data": {
      "text/plain": [
       "(3, 13)"
      ]
     },
     "execution_count": 32,
     "metadata": {},
     "output_type": "execute_result"
    }
   ],
   "source": [
    "# 7. Count Uppercase and Lowercase Letters in a String\n",
    "# Write a Python function that accepts a string and counts the number of upper and lower case letters.\n",
    "\n",
    "def count_case(s):\n",
    "    upper = 0\n",
    "    lower = 0\n",
    "    for i in s:\n",
    "        if i.isupper():\n",
    "            upper += 1\n",
    "        elif i.islower():\n",
    "            lower += 1\n",
    "    return upper, lower\n",
    "\n",
    "count_case(\"The quick Brown Fox\")\n",
    "\n",
    "\n"
   ]
  },
  {
   "cell_type": "code",
   "execution_count": null,
   "id": "c7ec66c7",
   "metadata": {},
   "outputs": [
    {
     "data": {
      "text/plain": [
       "[1, 2, 3, 4, 5]"
      ]
     },
     "execution_count": 36,
     "metadata": {},
     "output_type": "execute_result"
    }
   ],
   "source": [
    "# 8. Return a New List with Distinct Elements from a List\n",
    "\n",
    "# Write a Python function that takes a list and returns a new list with distinct elements from the first list.\n",
    "\n",
    "def distinct(nums):\n",
    "    dis = []\n",
    "    for char in nums:\n",
    "        if char not in dis:\n",
    "            dis.append(char)\n",
    "    return dis\n",
    "\n",
    "nums = [1,2,3,3,3,3,4,5]\n",
    "distinct(nums)"
   ]
  },
  {
   "cell_type": "code",
   "execution_count": null,
   "id": "1aaaeadd",
   "metadata": {},
   "outputs": [
    {
     "data": {
      "text/plain": [
       "False"
      ]
     },
     "execution_count": 44,
     "metadata": {},
     "output_type": "execute_result"
    }
   ],
   "source": [
    "# 9. Check Whether a Number is Prime\n",
    "\n",
    "# Write a Python function that takes a number as a parameter and checks whether the number is prime or not.\n",
    "\n",
    "#Note : A prime number (or a prime) is a natural number greater than 1 and that has no positive divisors other than 1 and itself.\n",
    "\n",
    "def is_prime(n):\n",
    "    if n <=1:\n",
    "        return False\n",
    "    for i in range(2, int(n**0.5) + 1):\n",
    "        if n % i == 0:\n",
    "            return False\n",
    "    return True\n",
    "\n",
    "is_prime(7), is_prime2(11), is_prime3(13), is_prime\n",
    "is_prime(10)"
   ]
  },
  {
   "cell_type": "code",
   "execution_count": null,
   "id": "46eb228e",
   "metadata": {},
   "outputs": [
    {
     "data": {
      "text/plain": [
       "[2, 4, 6, 8, 10]"
      ]
     },
     "execution_count": 57,
     "metadata": {},
     "output_type": "execute_result"
    }
   ],
   "source": [
    "\n",
    "# 10. Print Even Numbers from a Given List\n",
    "\n",
    "# Write a Python program to print the even numbers from a given list.\n",
    "def even_num(nums):\n",
    "    even = []\n",
    "    for num in nums:\n",
    "        if num % 2 == 0:\n",
    "            even.append(num)\n",
    "    return even\n",
    "\n",
    "even_num([1, 2, 3, 4, 5, 6, 7, 8, 9, 10])"
   ]
  },
  {
   "cell_type": "code",
   "execution_count": null,
   "id": "7dc0b18c",
   "metadata": {},
   "outputs": [
    {
     "data": {
      "text/plain": [
       "(True, True, False, True, True)"
      ]
     },
     "execution_count": 1,
     "metadata": {},
     "output_type": "execute_result"
    }
   ],
   "source": [
    "# 11. Check if a Number is Perfect\n",
    "# Write a Python function to check if a number is perfect or not.\n",
    "\n",
    "def is_perfect(n):\n",
    "    if n < 1:\n",
    "        return False\n",
    "    sum_of_div = 0\n",
    "    for i in range(1, n):\n",
    "        if n % i == 0:\n",
    "            sum_of_div += i\n",
    "    return sum_of_div == n\n",
    "is_perfect(6), is_perfect(28), is_perfect(12), is_perfect(496), is_perfect(8128)"
   ]
  },
  {
   "cell_type": "code",
   "execution_count": 10,
   "id": "2664c907",
   "metadata": {},
   "outputs": [
    {
     "data": {
      "text/plain": [
       "(True, False, True, True, False)"
      ]
     },
     "execution_count": 10,
     "metadata": {},
     "output_type": "execute_result"
    }
   ],
   "source": [
    "# 12. Check if a String is a Palindrome\n",
    "\n",
    "# Write a Python function that checks whether a passed string is a palindrome or not.\n",
    "\n",
    "def is_palindrome(s):\n",
    "    rev = s[::-1]\n",
    "    if rev == s:\n",
    "        return True\n",
    "    return False\n",
    "\n",
    "def is_palindrome2(s):\n",
    "    left = 0\n",
    "    right = len(s) - 1\n",
    "    while right > left:\n",
    "        if s[left] != s[right]:\n",
    "            return False\n",
    "        left += 1\n",
    "        right -= 1\n",
    "    return True\n",
    "\n",
    "is_palindrome2(\"madam\"), is_palindrome2(\"hello\"), is_palindrome2(\"racecar\"), is_palindrome2(\"12321\"), is_palindrome2(\"123245\")\n"
   ]
  },
  {
   "cell_type": "code",
   "execution_count": 14,
   "id": "b2b99c85",
   "metadata": {},
   "outputs": [
    {
     "name": "stdout",
     "output_type": "stream",
     "text": [
      "[[1], [1, 1], [1, 2, 1], [1, 3, 3, 1], [1, 4, 6, 4, 1]]\n"
     ]
    }
   ],
   "source": [
    "# 13. Print the First n Rows of Pascal's Triangle\n",
    "\n",
    "# Write a Python function that prints out the first n rows of Pascal's triangle.\n",
    "\n",
    "def pascal_triangle(n):\n",
    "    triangle = []\n",
    "    for i in range(n):\n",
    "        row = [1]\n",
    "        if triangle:\n",
    "            last_row = triangle[-1]\n",
    "            for j in range(1, len(last_row)):\n",
    "                row.append(last_row[j-1] + last_row[j])\n",
    "            row.append(1)\n",
    "        triangle.append(row)\n",
    "    return triangle\n",
    "print(pascal_triangle(5))"
   ]
  },
  {
   "cell_type": "code",
   "execution_count": 2,
   "id": "d282b0ea",
   "metadata": {},
   "outputs": [
    {
     "data": {
      "text/plain": [
       "(True, False, True)"
      ]
     },
     "execution_count": 2,
     "metadata": {},
     "output_type": "execute_result"
    }
   ],
   "source": [
    "# 14. Check if a String is a Pangram\n",
    "\n",
    "# Write a Python function to check whether a string is a pangram or not.\n",
    "\n",
    "# Note : Pangrams are words or sentences containing every letter of the alphabet at least once.\n",
    "# For example : \"The quick brown fox jumps over the lazy dog\"\n",
    "\n",
    "def is_pangram(s):\n",
    "    alphabet = set('abcdefghijklmnopqrstuvwxyz')\n",
    "    s = set(s.lower())\n",
    "    return alphabet.issubset(s)\n",
    "is_pangram(\"The quick brown fox jumps over the lazy dog\"), is_pangram(\"Hello World\"), is_pangram(\"Pack my box with five dozen liquor jugs\")"
   ]
  },
  {
   "cell_type": "code",
   "execution_count": null,
   "id": "fc1d0a9d",
   "metadata": {},
   "outputs": [],
   "source": [
    "# 15. Sort Hyphen-Separated Sequence of Words Alphabetically\n",
    "\n",
    "# Write a Python program that accepts a hyphen-separated sequence of words as input and prints the words in a hyphen-separated sequence after sorting them alphabetically.\n",
    "\n"
   ]
  }
 ],
 "metadata": {
  "kernelspec": {
   "display_name": "py39",
   "language": "python",
   "name": "python3"
  },
  "language_info": {
   "codemirror_mode": {
    "name": "ipython",
    "version": 3
   },
   "file_extension": ".py",
   "mimetype": "text/x-python",
   "name": "python",
   "nbconvert_exporter": "python",
   "pygments_lexer": "ipython3",
   "version": "3.9.23"
  }
 },
 "nbformat": 4,
 "nbformat_minor": 5
}
